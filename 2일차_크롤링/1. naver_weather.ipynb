{
 "cells": [
  {
   "cell_type": "code",
   "execution_count": 4,
   "id": "48215173",
   "metadata": {},
   "outputs": [],
   "source": [
    "#크롤링 기초\n",
    "## 날씨 정보 가져오기 "
   ]
  },
  {
   "cell_type": "code",
   "execution_count": 100,
   "id": "0632cb79",
   "metadata": {},
   "outputs": [],
   "source": [
    "from selenium import webdriver"
   ]
  },
  {
   "cell_type": "code",
   "execution_count": 133,
   "id": "4499df04",
   "metadata": {},
   "outputs": [],
   "source": [
    "broswer = webdriver.Chrome()\n",
    "\n",
    "# PATH = \"C:\\Users\\namjoo\\Documents\\GitHub\\Python-Tutorial-NAMJOO\\2일차_크롤링\"\n",
    "# browser =webdriver.Chrome(PATH)"
   ]
  },
  {
   "cell_type": "code",
   "execution_count": 134,
   "id": "2144d373",
   "metadata": {},
   "outputs": [],
   "source": [
    "broswer.get(\"https://www.naver.com\")"
   ]
  },
  {
   "cell_type": "code",
   "execution_count": 103,
   "id": "69e457ca",
   "metadata": {},
   "outputs": [],
   "source": [
    "from selenium.webdriver.common.by import By"
   ]
  },
  {
   "cell_type": "code",
   "execution_count": 104,
   "id": "c71ed51b",
   "metadata": {},
   "outputs": [],
   "source": [
    "broswer.find_element(By.ID, 'query').click()"
   ]
  },
  {
   "cell_type": "code",
   "execution_count": 105,
   "id": "e3633357",
   "metadata": {},
   "outputs": [],
   "source": [
    "broswer.find_element(By.ID, 'query').send_keys(\"날씨\")"
   ]
  },
  {
   "cell_type": "code",
   "execution_count": 106,
   "id": "862545f2",
   "metadata": {},
   "outputs": [],
   "source": [
    "broswer.find_element(By.XPATH, '//*[@id=\"search_btn\"]').click()"
   ]
  },
  {
   "cell_type": "code",
   "execution_count": 107,
   "id": "ab72760b",
   "metadata": {},
   "outputs": [],
   "source": [
    "broswer.find_element(By.ID, 'nx_query').click()"
   ]
  },
  {
   "cell_type": "code",
   "execution_count": 108,
   "id": "bc8621e5",
   "metadata": {},
   "outputs": [],
   "source": [
    "broswer.find_element(By.ID, 'nx_query').clear()"
   ]
  },
  {
   "cell_type": "code",
   "execution_count": 109,
   "id": "3e687026",
   "metadata": {},
   "outputs": [],
   "source": [
    "broswer.find_element(By.ID, 'nx_query').send_keys(\"환율\")"
   ]
  },
  {
   "cell_type": "code",
   "execution_count": 110,
   "id": "8fa59dae",
   "metadata": {},
   "outputs": [],
   "source": [
    "broswer.find_element(By.XPATH, '//*[@id=\"nx_search_form\"]/fieldset/button').click()"
   ]
  },
  {
   "cell_type": "code",
   "execution_count": 111,
   "id": "e46a365d",
   "metadata": {},
   "outputs": [
    {
     "data": {
      "text/plain": [
       "'1,433.50'"
      ]
     },
     "execution_count": 111,
     "metadata": {},
     "output_type": "execute_result"
    }
   ],
   "source": [
    "broswer.find_element(By.XPATH, '//*[@id=\"_cs_foreigninfo\"]/div/div[2]/div/div[1]/div[1]/div[1]/div[1]/h3/a/span[2]/strong').text"
   ]
  },
  {
   "cell_type": "code",
   "execution_count": 159,
   "id": "4fb0e84d",
   "metadata": {},
   "outputs": [],
   "source": [
    "broswer.get(\"https://www.google.com/search?q=%EC%9E%90%EB%8F%99%ED%99%94&source=lnms&tbm=nws&sa=X&ved=2ahUKEwiXnpi74Pr6AhULMd4KHTxcBZ8Q_AUoAnoECAIQBA&biw=1095&bih=619&dpr=2.5\")"
   ]
  },
  {
   "cell_type": "code",
   "execution_count": null,
   "id": "f3864bca",
   "metadata": {},
   "outputs": [],
   "source": []
  },
  {
   "cell_type": "code",
   "execution_count": 201,
   "id": "3e9f8f96",
   "metadata": {},
   "outputs": [
    {
     "name": "stdout",
     "output_type": "stream",
     "text": [
      "['한화생명 청약자동화 솔루션 특허…GA설계사 업무간소화', '한화생명, ‘보험 신계약 자동화’ 특허 취득', '한화생명, 청약자동화 솔루션 특허 취득 - 서울경제', '한화생명, 보험 계약 자동화 솔루션 특허 취득', '한화생명, 청약자동화 솔루션 특허 취득', '한화생명 보험가입 5분이면 끝…청약자동화 솔루션 특허 취득', '한화생명, 청약자동화 솔루션 특허 취득', '한화생명 청약자동화 솔루션 특허GA설계사 업무간소화', '한화생명, 청약자동화 솔루션 특허 취득 -', '자동화로 네트워크 전체 스위치 업그레이드를 효율화하는 방법', '롯데홈쇼핑, 이천 물류센터 오픈...최첨단 자동화 시스템 도입', '롯데홈쇼핑, 최첨단 자동화 시스템 도입한 물류센터 오픈']\n"
     ]
    }
   ],
   "source": [
    "titles = broswer.find_elements(By.CLASS_NAME, 'mCBkyc')\n",
    "\n",
    "title = []\n",
    "for i in titles:\n",
    "    temp_content = i.text\n",
    "    temp_content = temp_content.replace(\",\", \"\")\n",
    "    title.append(i.text)\n",
    "print(title)"
   ]
  },
  {
   "cell_type": "code",
   "execution_count": 114,
   "id": "380c2f92",
   "metadata": {},
   "outputs": [],
   "source": []
  },
  {
   "cell_type": "code",
   "execution_count": null,
   "id": "66833d68",
   "metadata": {},
   "outputs": [],
   "source": []
  },
  {
   "cell_type": "code",
   "execution_count": 200,
   "id": "ee311943",
   "metadata": {},
   "outputs": [
    {
     "ename": "NameError",
     "evalue": "name 'material' is not defined",
     "output_type": "error",
     "traceback": [
      "\u001b[1;31m---------------------------------------------------------------------------\u001b[0m",
      "\u001b[1;31mNameError\u001b[0m                                 Traceback (most recent call last)",
      "\u001b[1;32m~\\AppData\\Local\\Temp\\ipykernel_4528\\1047797355.py\u001b[0m in \u001b[0;36m<module>\u001b[1;34m\u001b[0m\n\u001b[0;32m      2\u001b[0m \u001b[1;33m\u001b[0m\u001b[0m\n\u001b[0;32m      3\u001b[0m \u001b[1;32mfor\u001b[0m \u001b[0mi\u001b[0m \u001b[1;32min\u001b[0m \u001b[0mrange\u001b[0m\u001b[1;33m(\u001b[0m\u001b[0mlen\u001b[0m\u001b[1;33m(\u001b[0m\u001b[0mtitle\u001b[0m\u001b[1;33m)\u001b[0m\u001b[1;33m)\u001b[0m\u001b[1;33m:\u001b[0m\u001b[1;33m\u001b[0m\u001b[1;33m\u001b[0m\u001b[0m\n\u001b[1;32m----> 4\u001b[1;33m     \u001b[0mfile\u001b[0m\u001b[1;33m.\u001b[0m\u001b[0mwrite\u001b[0m\u001b[1;33m(\u001b[0m\u001b[1;34m\"{}, {}, {}, ＼n\"\u001b[0m\u001b[1;33m.\u001b[0m \u001b[0mformat\u001b[0m\u001b[1;33m(\u001b[0m\u001b[0mtitle\u001b[0m\u001b[1;33m[\u001b[0m\u001b[0mi\u001b[0m\u001b[1;33m]\u001b[0m\u001b[1;33m,\u001b[0m \u001b[0mmaterial\u001b[0m\u001b[1;33m[\u001b[0m\u001b[0mi\u001b[0m\u001b[1;33m]\u001b[0m\u001b[1;33m,\u001b[0m \u001b[0mlink\u001b[0m\u001b[1;33m[\u001b[0m\u001b[0mi\u001b[0m\u001b[1;33m]\u001b[0m\u001b[1;33m)\u001b[0m\u001b[1;33m)\u001b[0m\u001b[1;33m\u001b[0m\u001b[1;33m\u001b[0m\u001b[0m\n\u001b[0m\u001b[0;32m      5\u001b[0m \u001b[1;33m\u001b[0m\u001b[0m\n\u001b[0;32m      6\u001b[0m \u001b[0mfile\u001b[0m\u001b[1;33m.\u001b[0m\u001b[0mclose\u001b[0m\u001b[1;33m(\u001b[0m\u001b[1;33m)\u001b[0m\u001b[1;33m\u001b[0m\u001b[1;33m\u001b[0m\u001b[0m\n",
      "\u001b[1;31mNameError\u001b[0m: name 'material' is not defined"
     ]
    }
   ],
   "source": [
    "file = open(\"google_news.csv\", \"a\", encoding=\"UTF-8-sig\")\n",
    "\n",
    "for i in range(len(title)):\n",
    "    file.write(\"{}, {}, {}, ＼n\". format(title[i], material[i], link[i]))\n",
    "    \n",
    "file.close()"
   ]
  },
  {
   "cell_type": "code",
   "execution_count": null,
   "id": "5608e18b",
   "metadata": {},
   "outputs": [],
   "source": []
  }
 ],
 "metadata": {
  "kernelspec": {
   "display_name": "Python 3 (ipykernel)",
   "language": "python",
   "name": "python3"
  },
  "language_info": {
   "codemirror_mode": {
    "name": "ipython",
    "version": 3
   },
   "file_extension": ".py",
   "mimetype": "text/x-python",
   "name": "python",
   "nbconvert_exporter": "python",
   "pygments_lexer": "ipython3",
   "version": "3.9.13"
  }
 },
 "nbformat": 4,
 "nbformat_minor": 5
}
