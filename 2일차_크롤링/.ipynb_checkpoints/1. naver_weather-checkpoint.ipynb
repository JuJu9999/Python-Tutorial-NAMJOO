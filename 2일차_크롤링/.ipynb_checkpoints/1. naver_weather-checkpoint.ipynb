{
 "cells": [
  {
   "cell_type": "code",
   "execution_count": 4,
   "id": "48215173",
   "metadata": {},
   "outputs": [],
   "source": [
    "#크롤링 기초\n",
    "## 날씨 정보 가져오기 "
   ]
  },
  {
   "cell_type": "code",
   "execution_count": 100,
   "id": "0632cb79",
   "metadata": {},
   "outputs": [],
   "source": [
    "from selenium import webdriver"
   ]
  },
  {
   "cell_type": "code",
   "execution_count": 133,
   "id": "4499df04",
   "metadata": {},
   "outputs": [],
   "source": [
    "broswer = webdriver.Chrome()\n",
    "\n",
    "# PATH = \"C:\\Users\\namjoo\\Documents\\GitHub\\Python-Tutorial-NAMJOO\\2일차_크롤링\"\n",
    "# browser =webdriver.Chrome(PATH)"
   ]
  },
  {
   "cell_type": "code",
   "execution_count": 134,
   "id": "2144d373",
   "metadata": {},
   "outputs": [],
   "source": [
    "broswer.get(\"https://www.naver.com\")"
   ]
  },
  {
   "cell_type": "code",
   "execution_count": 103,
   "id": "69e457ca",
   "metadata": {},
   "outputs": [],
   "source": [
    "from selenium.webdriver.common.by import By"
   ]
  },
  {
   "cell_type": "code",
   "execution_count": 104,
   "id": "c71ed51b",
   "metadata": {},
   "outputs": [],
   "source": [
    "broswer.find_element(By.ID, 'query').click()"
   ]
  },
  {
   "cell_type": "code",
   "execution_count": 105,
   "id": "e3633357",
   "metadata": {},
   "outputs": [],
   "source": [
    "broswer.find_element(By.ID, 'query').send_keys(\"날씨\")"
   ]
  },
  {
   "cell_type": "code",
   "execution_count": 106,
   "id": "af7f1221",
   "metadata": {},
   "outputs": [],
   "source": [
    "broswer.find_element(By.XPATH, '//*[@id=\"search_btn\"]').click()"
   ]
  },
  {
   "cell_type": "code",
   "execution_count": 107,
   "id": "5aa14f4b",
   "metadata": {},
   "outputs": [],
   "source": [
    "broswer.find_element(By.ID, 'nx_query').click()"
   ]
  },
  {
   "cell_type": "code",
   "execution_count": 108,
   "id": "dfd130e7",
   "metadata": {},
   "outputs": [],
   "source": [
    "broswer.find_element(By.ID, 'nx_query').clear()"
   ]
  },
  {
   "cell_type": "code",
   "execution_count": 109,
   "id": "3beeb044",
   "metadata": {},
   "outputs": [],
   "source": [
    "broswer.find_element(By.ID, 'nx_query').send_keys(\"환율\")"
   ]
  },
  {
   "cell_type": "code",
   "execution_count": 110,
   "id": "bf98b1ab",
   "metadata": {},
   "outputs": [],
   "source": [
    "broswer.find_element(By.XPATH, '//*[@id=\"nx_search_form\"]/fieldset/button').click()"
   ]
  },
  {
   "cell_type": "code",
   "execution_count": 111,
   "id": "ce229cb3",
   "metadata": {},
   "outputs": [
    {
     "data": {
      "text/plain": [
       "'1,433.50'"
      ]
     },
     "execution_count": 111,
     "metadata": {},
     "output_type": "execute_result"
    }
   ],
   "source": [
    "broswer.find_element(By.XPATH, '//*[@id=\"_cs_foreigninfo\"]/div/div[2]/div/div[1]/div[1]/div[1]/div[1]/h3/a/span[2]/strong').text"
   ]
  },
  {
   "cell_type": "code",
   "execution_count": 159,
   "id": "8b83aa2b",
   "metadata": {},
   "outputs": [],
   "source": [
    "broswer.get(\"https://www.google.com/search?q=%EC%9E%90%EB%8F%99%ED%99%94&source=lnms&tbm=nws&sa=X&ved=2ahUKEwiXnpi74Pr6AhULMd4KHTxcBZ8Q_AUoAnoECAIQBA&biw=1095&bih=619&dpr=2.5\")"
   ]
  },
  {
   "cell_type": "code",
   "execution_count": null,
   "id": "f6ca25a9",
   "metadata": {},
   "outputs": [],
   "source": []
  },
  {
   "cell_type": "code",
   "execution_count": 167,
   "id": "c2dae575",
   "metadata": {},
   "outputs": [],
   "source": [
    "titles = broswer.find_elements(By.CLASS_NAME, 'mCBkyc')\n",
    "\n",
    "title = []\n",
    "for i in titles:\n",
    "    title.append(i.text)"
   ]
  },
  {
   "cell_type": "code",
   "execution_count": 114,
   "id": "9c565087",
   "metadata": {},
   "outputs": [],
   "source": []
  },
  {
   "cell_type": "code",
   "execution_count": 168,
   "id": "3efcbf01",
   "metadata": {},
   "outputs": [
    {
     "ename": "IndexError",
     "evalue": "Replacement index 0 out of range for positional args tuple",
     "output_type": "error",
     "traceback": [
      "\u001b[1;31m---------------------------------------------------------------------------\u001b[0m",
      "\u001b[1;31mIndexError\u001b[0m                                Traceback (most recent call last)",
      "\u001b[1;32m~\\AppData\\Local\\Temp\\ipykernel_4528\\4013061800.py\u001b[0m in \u001b[0;36m<module>\u001b[1;34m\u001b[0m\n\u001b[0;32m      1\u001b[0m \u001b[0mfile\u001b[0m \u001b[1;33m=\u001b[0m \u001b[0mopen\u001b[0m\u001b[1;33m(\u001b[0m\u001b[1;34m\"test.csv\"\u001b[0m\u001b[1;33m,\u001b[0m\u001b[1;34m\"a\"\u001b[0m\u001b[1;33m,\u001b[0m \u001b[0mencoding\u001b[0m\u001b[1;33m=\u001b[0m\u001b[1;34m\"UTF-8-sig\"\u001b[0m\u001b[1;33m)\u001b[0m\u001b[1;33m\u001b[0m\u001b[1;33m\u001b[0m\u001b[0m\n\u001b[1;32m----> 2\u001b[1;33m \u001b[0mfile\u001b[0m\u001b[1;33m.\u001b[0m\u001b[0mwrite\u001b[0m\u001b[1;33m(\u001b[0m\u001b[1;34m\"{}, {}, {} \"\u001b[0m\u001b[1;33m.\u001b[0m\u001b[0mformat\u001b[0m\u001b[1;33m(\u001b[0m\u001b[1;33m)\u001b[0m\u001b[1;33m)\u001b[0m\u001b[1;33m.\u001b[0m\u001b[0mformat\u001b[0m\u001b[1;33m(\u001b[0m\u001b[1;34m\"제목\"\u001b[0m\u001b[1;33m,\u001b[0m\u001b[1;34m\"내용\"\u001b[0m\u001b[1;33m,\u001b[0m\u001b[1;34m\"링크\"\u001b[0m\u001b[1;33m)\u001b[0m\u001b[1;33m\u001b[0m\u001b[1;33m\u001b[0m\u001b[0m\n\u001b[0m\u001b[0;32m      3\u001b[0m \u001b[0mfile\u001b[0m\u001b[1;33m.\u001b[0m\u001b[0mclose\u001b[0m\u001b[1;33m\u001b[0m\u001b[1;33m\u001b[0m\u001b[0m\n",
      "\u001b[1;31mIndexError\u001b[0m: Replacement index 0 out of range for positional args tuple"
     ]
    }
   ],
   "source": [
    "file = open(\"test.csv\",\"a\", encoding=\"UTF-8-sig\")\n",
    "file.write(\"{}, {}, {} ＼n\".format()).format(\"제목\",\"내용\",\"링크\")\n",
    "file.close"
   ]
  },
  {
   "cell_type": "code",
   "execution_count": null,
   "id": "677e5bcd",
   "metadata": {},
   "outputs": [],
   "source": []
  }
 ],
 "metadata": {
  "kernelspec": {
   "display_name": "Python 3 (ipykernel)",
   "language": "python",
   "name": "python3"
  },
  "language_info": {
   "codemirror_mode": {
    "name": "ipython",
    "version": 3
   },
   "file_extension": ".py",
   "mimetype": "text/x-python",
   "name": "python",
   "nbconvert_exporter": "python",
   "pygments_lexer": "ipython3",
   "version": "3.9.13"
  }
 },
 "nbformat": 4,
 "nbformat_minor": 5
}
